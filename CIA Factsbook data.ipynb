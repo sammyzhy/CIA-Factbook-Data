{
 "cells": [
  {
   "cell_type": "markdown",
   "metadata": {
    "collapsed": true
   },
   "source": [
    "## Analyzing CIA World Factbook Data Using SQLite and Python\n",
    "\n",
    "In this project, we'll work with data from the CIA World Factbook, a compendium of statistics about all of the countries on Earth. The Factbook contains demographic information like:\n",
    "\n",
    "   + population - The population as of 2015.\n",
    "   + population_growth - The annual population growth rate, as a percentage.\n",
    "   + area - The total land and water area.\n",
    "   \n",
    "In this project, we'll explore the Python SQLite workflow to explore, analyze, and visualize data from this database."
   ]
  },
  {
   "cell_type": "markdown",
   "metadata": {},
   "source": [
    "In Python, we learned how to connect to a SQLite database and query it using the sqlite3 module. When working in the Jupyter notebook environment, we can actually use pandas to run SQL queries and display the results neatly as a DataFrame object. We create a sqlite3.Connection instance as usual and then use pandas.read_sql_query(sql, con) to handle running the query and returning the results in a table."
   ]
  },
  {
   "cell_type": "code",
   "execution_count": 1,
   "metadata": {
    "collapsed": false
   },
   "outputs": [
    {
     "data": {
      "text/html": [
       "<div>\n",
       "<style scoped>\n",
       "    .dataframe tbody tr th:only-of-type {\n",
       "        vertical-align: middle;\n",
       "    }\n",
       "\n",
       "    .dataframe tbody tr th {\n",
       "        vertical-align: top;\n",
       "    }\n",
       "\n",
       "    .dataframe thead th {\n",
       "        text-align: right;\n",
       "    }\n",
       "</style>\n",
       "<table border=\"1\" class=\"dataframe\">\n",
       "  <thead>\n",
       "    <tr style=\"text-align: right;\">\n",
       "      <th></th>\n",
       "      <th>type</th>\n",
       "      <th>name</th>\n",
       "      <th>tbl_name</th>\n",
       "      <th>rootpage</th>\n",
       "      <th>sql</th>\n",
       "    </tr>\n",
       "  </thead>\n",
       "  <tbody>\n",
       "    <tr>\n",
       "      <th>0</th>\n",
       "      <td>table</td>\n",
       "      <td>sqlite_sequence</td>\n",
       "      <td>sqlite_sequence</td>\n",
       "      <td>3</td>\n",
       "      <td>CREATE TABLE sqlite_sequence(name,seq)</td>\n",
       "    </tr>\n",
       "    <tr>\n",
       "      <th>1</th>\n",
       "      <td>table</td>\n",
       "      <td>facts</td>\n",
       "      <td>facts</td>\n",
       "      <td>47</td>\n",
       "      <td>CREATE TABLE \"facts\" (\"id\" INTEGER PRIMARY KEY...</td>\n",
       "    </tr>\n",
       "  </tbody>\n",
       "</table>\n",
       "</div>"
      ],
      "text/plain": [
       "    type             name         tbl_name  rootpage  \\\n",
       "0  table  sqlite_sequence  sqlite_sequence         3   \n",
       "1  table            facts            facts        47   \n",
       "\n",
       "                                                 sql  \n",
       "0             CREATE TABLE sqlite_sequence(name,seq)  \n",
       "1  CREATE TABLE \"facts\" (\"id\" INTEGER PRIMARY KEY...  "
      ]
     },
     "execution_count": 1,
     "metadata": {},
     "output_type": "execute_result"
    }
   ],
   "source": [
    "#import pandas and sqlite3\n",
    "import pandas as pd\n",
    "import sqlite3\n",
    "\n",
    "#connect to factbook.db\n",
    "conn = sqlite3.connect(\"factbook.db\")\n",
    "q = \"SELECT * FROM sqlite_master WHERE type = 'table';\"\n",
    "pd.read_sql_query(q, conn)"
   ]
  },
  {
   "cell_type": "code",
   "execution_count": 2,
   "metadata": {
    "collapsed": false
   },
   "outputs": [
    {
     "data": {
      "text/html": [
       "<div>\n",
       "<style scoped>\n",
       "    .dataframe tbody tr th:only-of-type {\n",
       "        vertical-align: middle;\n",
       "    }\n",
       "\n",
       "    .dataframe tbody tr th {\n",
       "        vertical-align: top;\n",
       "    }\n",
       "\n",
       "    .dataframe thead th {\n",
       "        text-align: right;\n",
       "    }\n",
       "</style>\n",
       "<table border=\"1\" class=\"dataframe\">\n",
       "  <thead>\n",
       "    <tr style=\"text-align: right;\">\n",
       "      <th></th>\n",
       "      <th>id</th>\n",
       "      <th>code</th>\n",
       "      <th>name</th>\n",
       "      <th>area</th>\n",
       "      <th>area_land</th>\n",
       "      <th>area_water</th>\n",
       "      <th>population</th>\n",
       "      <th>population_growth</th>\n",
       "      <th>birth_rate</th>\n",
       "      <th>death_rate</th>\n",
       "      <th>migration_rate</th>\n",
       "    </tr>\n",
       "  </thead>\n",
       "  <tbody>\n",
       "    <tr>\n",
       "      <th>0</th>\n",
       "      <td>1</td>\n",
       "      <td>af</td>\n",
       "      <td>Afghanistan</td>\n",
       "      <td>652230</td>\n",
       "      <td>652230</td>\n",
       "      <td>0</td>\n",
       "      <td>32564342</td>\n",
       "      <td>2.32</td>\n",
       "      <td>38.57</td>\n",
       "      <td>13.89</td>\n",
       "      <td>1.51</td>\n",
       "    </tr>\n",
       "    <tr>\n",
       "      <th>1</th>\n",
       "      <td>2</td>\n",
       "      <td>al</td>\n",
       "      <td>Albania</td>\n",
       "      <td>28748</td>\n",
       "      <td>27398</td>\n",
       "      <td>1350</td>\n",
       "      <td>3029278</td>\n",
       "      <td>0.30</td>\n",
       "      <td>12.92</td>\n",
       "      <td>6.58</td>\n",
       "      <td>3.30</td>\n",
       "    </tr>\n",
       "    <tr>\n",
       "      <th>2</th>\n",
       "      <td>3</td>\n",
       "      <td>ag</td>\n",
       "      <td>Algeria</td>\n",
       "      <td>2381741</td>\n",
       "      <td>2381741</td>\n",
       "      <td>0</td>\n",
       "      <td>39542166</td>\n",
       "      <td>1.84</td>\n",
       "      <td>23.67</td>\n",
       "      <td>4.31</td>\n",
       "      <td>0.92</td>\n",
       "    </tr>\n",
       "    <tr>\n",
       "      <th>3</th>\n",
       "      <td>4</td>\n",
       "      <td>an</td>\n",
       "      <td>Andorra</td>\n",
       "      <td>468</td>\n",
       "      <td>468</td>\n",
       "      <td>0</td>\n",
       "      <td>85580</td>\n",
       "      <td>0.12</td>\n",
       "      <td>8.13</td>\n",
       "      <td>6.96</td>\n",
       "      <td>0.00</td>\n",
       "    </tr>\n",
       "    <tr>\n",
       "      <th>4</th>\n",
       "      <td>5</td>\n",
       "      <td>ao</td>\n",
       "      <td>Angola</td>\n",
       "      <td>1246700</td>\n",
       "      <td>1246700</td>\n",
       "      <td>0</td>\n",
       "      <td>19625353</td>\n",
       "      <td>2.78</td>\n",
       "      <td>38.78</td>\n",
       "      <td>11.49</td>\n",
       "      <td>0.46</td>\n",
       "    </tr>\n",
       "  </tbody>\n",
       "</table>\n",
       "</div>"
      ],
      "text/plain": [
       "   id code         name     area  area_land  area_water  population  \\\n",
       "0   1   af  Afghanistan   652230     652230           0    32564342   \n",
       "1   2   al      Albania    28748      27398        1350     3029278   \n",
       "2   3   ag      Algeria  2381741    2381741           0    39542166   \n",
       "3   4   an      Andorra      468        468           0       85580   \n",
       "4   5   ao       Angola  1246700    1246700           0    19625353   \n",
       "\n",
       "   population_growth  birth_rate  death_rate  migration_rate  \n",
       "0               2.32       38.57       13.89            1.51  \n",
       "1               0.30       12.92        6.58            3.30  \n",
       "2               1.84       23.67        4.31            0.92  \n",
       "3               0.12        8.13        6.96            0.00  \n",
       "4               2.78       38.78       11.49            0.46  "
      ]
     },
     "execution_count": 2,
     "metadata": {},
     "output_type": "execute_result"
    }
   ],
   "source": [
    "#Write and run another query that returns the first \n",
    "#5 rows of the facts table in the database. \n",
    "q = \"SELECT * FROM facts LIMIT 5;\"\n",
    "pd.read_sql_query(q,conn)"
   ]
  },
  {
   "cell_type": "markdown",
   "metadata": {},
   "source": [
    "## Summary Statistics\n",
    "\n",
    "Here are the descriptions for some of the columns:\n",
    "\n",
    "   + name - The name of the country.\n",
    "   + area - The total land and sea area of the country.\n",
    "   + population - The country's population.\n",
    "   + population_growth- The country's population growth as a percentage.\n",
    "   + birth_rate - The country's birth rate, or the number of births a year per 1,000 people.\n",
    "   + death_rate - The country's death rate, or the number of death a year per 1,000 people.\n",
    "   + area- The country's total area (both land and water).\n",
    "   + area_land - The country's land area in square kilometers.\n",
    "   + area_water - The country's waterarea in square kilometers.\n",
    "\n",
    "Let's start by calculating some summary statistics and look for any outlier countries."
   ]
  },
  {
   "cell_type": "code",
   "execution_count": 3,
   "metadata": {
    "collapsed": false
   },
   "outputs": [
    {
     "data": {
      "text/html": [
       "<div>\n",
       "<style scoped>\n",
       "    .dataframe tbody tr th:only-of-type {\n",
       "        vertical-align: middle;\n",
       "    }\n",
       "\n",
       "    .dataframe tbody tr th {\n",
       "        vertical-align: top;\n",
       "    }\n",
       "\n",
       "    .dataframe thead th {\n",
       "        text-align: right;\n",
       "    }\n",
       "</style>\n",
       "<table border=\"1\" class=\"dataframe\">\n",
       "  <thead>\n",
       "    <tr style=\"text-align: right;\">\n",
       "      <th></th>\n",
       "      <th>MIN(population)</th>\n",
       "    </tr>\n",
       "  </thead>\n",
       "  <tbody>\n",
       "    <tr>\n",
       "      <th>0</th>\n",
       "      <td>0</td>\n",
       "    </tr>\n",
       "  </tbody>\n",
       "</table>\n",
       "</div>"
      ],
      "text/plain": [
       "   MIN(population)\n",
       "0                0"
      ]
     },
     "execution_count": 3,
     "metadata": {},
     "output_type": "execute_result"
    }
   ],
   "source": [
    "#Single query to find the Minimum population\n",
    "minpo_q = \"SELECT MIN(population) FROM facts\"\n",
    "pd.read_sql_query(minpo_q, conn)"
   ]
  },
  {
   "cell_type": "code",
   "execution_count": 4,
   "metadata": {
    "collapsed": false
   },
   "outputs": [
    {
     "data": {
      "text/html": [
       "<div>\n",
       "<style scoped>\n",
       "    .dataframe tbody tr th:only-of-type {\n",
       "        vertical-align: middle;\n",
       "    }\n",
       "\n",
       "    .dataframe tbody tr th {\n",
       "        vertical-align: top;\n",
       "    }\n",
       "\n",
       "    .dataframe thead th {\n",
       "        text-align: right;\n",
       "    }\n",
       "</style>\n",
       "<table border=\"1\" class=\"dataframe\">\n",
       "  <thead>\n",
       "    <tr style=\"text-align: right;\">\n",
       "      <th></th>\n",
       "      <th>MAX(population)</th>\n",
       "    </tr>\n",
       "  </thead>\n",
       "  <tbody>\n",
       "    <tr>\n",
       "      <th>0</th>\n",
       "      <td>7256490011</td>\n",
       "    </tr>\n",
       "  </tbody>\n",
       "</table>\n",
       "</div>"
      ],
      "text/plain": [
       "   MAX(population)\n",
       "0       7256490011"
      ]
     },
     "execution_count": 4,
     "metadata": {},
     "output_type": "execute_result"
    }
   ],
   "source": [
    "#Single query to find the Maximum population\n",
    "maxpo_q = \"SELECT MAX(population) FROM facts\"\n",
    "pd.read_sql_query(maxpo_q, conn)"
   ]
  },
  {
   "cell_type": "code",
   "execution_count": 5,
   "metadata": {
    "collapsed": false
   },
   "outputs": [
    {
     "data": {
      "text/html": [
       "<div>\n",
       "<style scoped>\n",
       "    .dataframe tbody tr th:only-of-type {\n",
       "        vertical-align: middle;\n",
       "    }\n",
       "\n",
       "    .dataframe tbody tr th {\n",
       "        vertical-align: top;\n",
       "    }\n",
       "\n",
       "    .dataframe thead th {\n",
       "        text-align: right;\n",
       "    }\n",
       "</style>\n",
       "<table border=\"1\" class=\"dataframe\">\n",
       "  <thead>\n",
       "    <tr style=\"text-align: right;\">\n",
       "      <th></th>\n",
       "      <th>MIN(population_growth)</th>\n",
       "    </tr>\n",
       "  </thead>\n",
       "  <tbody>\n",
       "    <tr>\n",
       "      <th>0</th>\n",
       "      <td>0.0</td>\n",
       "    </tr>\n",
       "  </tbody>\n",
       "</table>\n",
       "</div>"
      ],
      "text/plain": [
       "   MIN(population_growth)\n",
       "0                     0.0"
      ]
     },
     "execution_count": 5,
     "metadata": {},
     "output_type": "execute_result"
    }
   ],
   "source": [
    "#Single query to find the Minimum population growth\n",
    "minpogr_q = \"SELECT MIN(population_growth) FROM facts\"\n",
    "pd.read_sql_query(minpogr_q, conn)"
   ]
  },
  {
   "cell_type": "code",
   "execution_count": 6,
   "metadata": {
    "collapsed": false
   },
   "outputs": [
    {
     "data": {
      "text/html": [
       "<div>\n",
       "<style scoped>\n",
       "    .dataframe tbody tr th:only-of-type {\n",
       "        vertical-align: middle;\n",
       "    }\n",
       "\n",
       "    .dataframe tbody tr th {\n",
       "        vertical-align: top;\n",
       "    }\n",
       "\n",
       "    .dataframe thead th {\n",
       "        text-align: right;\n",
       "    }\n",
       "</style>\n",
       "<table border=\"1\" class=\"dataframe\">\n",
       "  <thead>\n",
       "    <tr style=\"text-align: right;\">\n",
       "      <th></th>\n",
       "      <th>MAX(population_growth)</th>\n",
       "    </tr>\n",
       "  </thead>\n",
       "  <tbody>\n",
       "    <tr>\n",
       "      <th>0</th>\n",
       "      <td>4.02</td>\n",
       "    </tr>\n",
       "  </tbody>\n",
       "</table>\n",
       "</div>"
      ],
      "text/plain": [
       "   MAX(population_growth)\n",
       "0                    4.02"
      ]
     },
     "execution_count": 6,
     "metadata": {},
     "output_type": "execute_result"
    }
   ],
   "source": [
    "#Single query to find the Maximum population growth\n",
    "maxpogr_q = \"SELECT MAX(population_growth) FROM facts\"\n",
    "pd.read_sql_query(maxpogr_q, conn)"
   ]
  },
  {
   "cell_type": "markdown",
   "metadata": {},
   "source": [
    "## Exploring Outliers\n",
    "\n",
    "A few things stick out from the summary statistics in the last screen:\n",
    "\n",
    "   + there's a country with a population of 0\n",
    "   + there's a country with a population of 7256490011 (or more than 7.2 billion people)\n",
    "\n",
    "Let's zoom in on just these countries."
   ]
  },
  {
   "cell_type": "code",
   "execution_count": 7,
   "metadata": {
    "collapsed": false
   },
   "outputs": [
    {
     "data": {
      "text/html": [
       "<div>\n",
       "<style scoped>\n",
       "    .dataframe tbody tr th:only-of-type {\n",
       "        vertical-align: middle;\n",
       "    }\n",
       "\n",
       "    .dataframe tbody tr th {\n",
       "        vertical-align: top;\n",
       "    }\n",
       "\n",
       "    .dataframe thead th {\n",
       "        text-align: right;\n",
       "    }\n",
       "</style>\n",
       "<table border=\"1\" class=\"dataframe\">\n",
       "  <thead>\n",
       "    <tr style=\"text-align: right;\">\n",
       "      <th></th>\n",
       "      <th>name</th>\n",
       "    </tr>\n",
       "  </thead>\n",
       "  <tbody>\n",
       "    <tr>\n",
       "      <th>0</th>\n",
       "      <td>Antarctica</td>\n",
       "    </tr>\n",
       "  </tbody>\n",
       "</table>\n",
       "</div>"
      ],
      "text/plain": [
       "         name\n",
       "0  Antarctica"
      ]
     },
     "execution_count": 7,
     "metadata": {},
     "output_type": "execute_result"
    }
   ],
   "source": [
    "#Return the countrie(s) with a population of 0\n",
    "nopopu_q = \"SELECT name FROM facts WHERE population = 0;\"\n",
    "pd.read_sql_query(nopopu_q, conn)"
   ]
  },
  {
   "cell_type": "markdown",
   "metadata": {},
   "source": [
    "According to Wikipedia, Antarctica has no permanent residents. So the result makes sense."
   ]
  },
  {
   "cell_type": "code",
   "execution_count": 10,
   "metadata": {
    "collapsed": false
   },
   "outputs": [
    {
     "data": {
      "text/html": [
       "<div>\n",
       "<style scoped>\n",
       "    .dataframe tbody tr th:only-of-type {\n",
       "        vertical-align: middle;\n",
       "    }\n",
       "\n",
       "    .dataframe tbody tr th {\n",
       "        vertical-align: top;\n",
       "    }\n",
       "\n",
       "    .dataframe thead th {\n",
       "        text-align: right;\n",
       "    }\n",
       "</style>\n",
       "<table border=\"1\" class=\"dataframe\">\n",
       "  <thead>\n",
       "    <tr style=\"text-align: right;\">\n",
       "      <th></th>\n",
       "      <th>name</th>\n",
       "    </tr>\n",
       "  </thead>\n",
       "  <tbody>\n",
       "    <tr>\n",
       "      <th>0</th>\n",
       "      <td>World</td>\n",
       "    </tr>\n",
       "  </tbody>\n",
       "</table>\n",
       "</div>"
      ],
      "text/plain": [
       "    name\n",
       "0  World"
      ]
     },
     "execution_count": 10,
     "metadata": {},
     "output_type": "execute_result"
    }
   ],
   "source": [
    "#Return the countrie(s) with the maximun population\n",
    "maxpopcoun_q = \"SELECT name FROM facts WHERE population = (SELECT MAX(population) FROM facts);\"\n",
    "pd.read_sql_query(maxpopcoun_q, conn)"
   ]
  },
  {
   "cell_type": "markdown",
   "metadata": {},
   "source": [
    "It seems like the table contains a row for the whole world, which explains the population of over 7.2 billion. "
   ]
  },
  {
   "cell_type": "markdown",
   "metadata": {},
   "source": [
    "## Histograms\n",
    "\n",
    "Let's move on to generating histograms for the rest of the countries in the table, ignoring the previous 2 rows. "
   ]
  },
  {
   "cell_type": "code",
   "execution_count": 17,
   "metadata": {
    "collapsed": false
   },
   "outputs": [
    {
     "name": "stdout",
     "output_type": "stream",
     "text": [
      "     population  population_growth  birth_rate  death_rate\n",
      "0      32564342               2.32       38.57       13.89\n",
      "1       3029278               0.30       12.92        6.58\n",
      "2      39542166               1.84       23.67        4.31\n",
      "3         85580               0.12        8.13        6.96\n",
      "4      19625353               2.78       38.78       11.49\n",
      "5         92436               1.24       15.85        5.69\n",
      "6      43431886               0.93       16.64        7.33\n",
      "7       3056382               0.15       13.61        9.34\n",
      "8      22751014               1.07       12.15        7.14\n",
      "9       8665550               0.55        9.41        9.42\n",
      "10      9780780               0.96       16.64        7.07\n",
      "11       324597               0.85       15.50        7.05\n",
      "12      1346613               2.41       13.66        2.69\n",
      "13    168957745               1.60       21.14        5.61\n",
      "14       290604               0.31       11.87        8.44\n",
      "15      9589689               0.20       10.70       13.36\n",
      "16     11323973               0.76       11.41        9.63\n",
      "17       347369               1.87       24.68        5.97\n",
      "18     10448647               2.78       36.02        8.21\n",
      "19       741919               1.11       17.78        6.69\n",
      "20     10800882               1.56       22.76        6.52\n",
      "21      3867055               0.13        8.87        9.75\n",
      "22      2182719               1.21       20.96       13.39\n",
      "23    204259812               0.77       14.46        6.58\n",
      "24       429646               1.62       17.32        3.52\n",
      "25      7186893               0.58        8.92       14.44\n",
      "26     18931686               3.03       42.03       11.72\n",
      "27     56320206               1.01       18.39        7.96\n",
      "28     10742276               3.28       42.01        9.27\n",
      "29     15708756               1.58       23.83        7.68\n",
      "..          ...                ...         ...         ...\n",
      "210      112162               1.33       12.56        8.18\n",
      "211      148406               0.43       13.80        8.20\n",
      "212       39689               1.51       13.00        4.51\n",
      "213        9838               2.95       14.33        8.03\n",
      "214        1190               0.03         NaN         NaN\n",
      "215        1337               0.01         NaN         NaN\n",
      "216        1872               0.03         NaN         NaN\n",
      "217       15700                NaN         NaN         NaN\n",
      "218       16418               2.03       12.67        4.57\n",
      "219       70196               0.50       11.33        8.23\n",
      "220       33454               2.32       10.91        4.99\n",
      "221       56092               2.10       12.11        5.53\n",
      "222       15700                NaN         NaN         NaN\n",
      "223        3361               0.01       10.90        4.90\n",
      "224       29258               0.24       14.08        8.37\n",
      "225       66080               0.34        9.84        8.78\n",
      "226       97294               0.80       11.91        7.68\n",
      "227       87545               0.76       11.10       10.06\n",
      "228        5241               0.50       11.26        6.30\n",
      "229          48               0.00         NaN         NaN\n",
      "230        7795               0.24        9.88        7.44\n",
      "231       50280               2.30       16.13        3.10\n",
      "232       54343               0.30       22.89        4.75\n",
      "233      161785               0.54       16.82        5.12\n",
      "234       52344               2.18       18.32        3.71\n",
      "235     3598357               0.60       10.86        8.67\n",
      "236      103574               0.59       10.31        8.54\n",
      "237     1869055               2.81       31.11        3.04\n",
      "238     2785366               1.95       22.99        3.50\n",
      "239      570866               2.82       30.24        8.34\n",
      "\n",
      "[240 rows x 4 columns]\n"
     ]
    }
   ],
   "source": [
    "q = \"SELECT population, population_growth, birth_rate, death_rate FROM facts WHERE (population != 0) AND (population != 7256490011);\"\n",
    "results = pd.read_sql_query(q, conn)\n",
    "print(results)"
   ]
  },
  {
   "cell_type": "code",
   "execution_count": 23,
   "metadata": {
    "collapsed": false
   },
   "outputs": [
    {
     "data": {
      "text/plain": [
       "array([[<matplotlib.axes._subplots.AxesSubplot object at 0x7f75d26c5a20>,\n",
       "        <matplotlib.axes._subplots.AxesSubplot object at 0x7f75d2611400>],\n",
       "       [<matplotlib.axes._subplots.AxesSubplot object at 0x7f75d25df518>,\n",
       "        <matplotlib.axes._subplots.AxesSubplot object at 0x7f75d259e3c8>]],\n",
       "      dtype=object)"
      ]
     },
     "execution_count": 23,
     "metadata": {},
     "output_type": "execute_result"
    },
    {
     "data": {
      "image/png": "[encoded data removed]",
      "text/plain": [
       "<matplotlib.figure.Figure at 0x7f75d27089e8>"
      ]
     },
     "metadata": {},
     "output_type": "display_data"
    }
   ],
   "source": [
    "#Generate histograms for all of the columns\n",
    "import matplotlib.pyplot as plt\n",
    "%matplotlib inline\n",
    "results.hist()"
   ]
  },
  {
   "cell_type": "markdown",
   "metadata": {},
   "source": [
    "## Which countries have the highest population density?\n",
    "\n",
    "Population density is the ratio of population to land area. Let's calculate the population density using SQL, and compare our results with those from Wikipedia"
   ]
  },
  {
   "cell_type": "code",
   "execution_count": 35,
   "metadata": {
    "collapsed": false
   },
   "outputs": [
    {
     "name": "stdout",
     "output_type": "stream",
     "text": [
      "                                  name  population_density\n",
      "0                                Macau        21168.964286\n",
      "1                               Monaco        15267.500000\n",
      "2                            Singapore         8259.784571\n",
      "3                            Hong Kong         6655.271202\n",
      "4                           Gaza Strip         5191.819444\n",
      "5                            Gibraltar         4876.333333\n",
      "6                              Bahrain         1771.859211\n",
      "7                             Maldives         1319.640940\n",
      "8                                Malta         1310.015823\n",
      "9                              Bermuda         1299.925926\n",
      "10                          Bangladesh         1297.977606\n",
      "11                        Sint Maarten         1167.323529\n",
      "12                            Guernsey          847.179487\n",
      "13                              Jersey          838.741379\n",
      "14                              Taiwan          725.825356\n",
      "15                            Barbados          675.823256\n",
      "16                           Mauritius          660.013300\n",
      "17                               Aruba          623.122222\n",
      "18                             Lebanon          604.565103\n",
      "19                        Saint Martin          588.037037\n",
      "20                          San Marino          541.311475\n",
      "21                              Rwanda          513.285755\n",
      "22                        Korea, South          506.760173\n",
      "23                         Netherlands          500.041424\n",
      "24                           West Bank          493.859220\n",
      "25                               Nauru          454.285714\n",
      "26                               India          420.993721\n",
      "27                             Burundi          418.312928\n",
      "28                              Tuvalu          418.038462\n",
      "29                         Puerto Rico          405.677227\n",
      "..                                 ...                 ...\n",
      "210                            Bolivia            9.970342\n",
      "211                               Chad            9.237179\n",
      "212                             Russia            8.696179\n",
      "213           Central African Republic            8.654378\n",
      "214                         Kazakhstan            6.725607\n",
      "215                              Gabon            6.618372\n",
      "216                               Niue            4.576923\n",
      "217                             Canada            3.859879\n",
      "218                           Botswana            3.851427\n",
      "219                             Guyana            3.734954\n",
      "220                           Suriname            3.715596\n",
      "221                              Libya            3.644007\n",
      "222                         Mauritania            3.489572\n",
      "223                            Iceland            3.310903\n",
      "224                          Australia            2.961485\n",
      "225                            Namibia            2.687154\n",
      "226                     Western Sahara            2.146113\n",
      "227                           Mongolia            1.926489\n",
      "228                   Pitcairn Islands            1.021277\n",
      "229  Falkland Islands (Islas Malvinas)            0.276103\n",
      "230                           Svalbard            0.030172\n",
      "231                          Greenland            0.026653\n",
      "232                           Ethiopia                 NaN\n",
      "233                        South Sudan                 NaN\n",
      "234                              Sudan                 NaN\n",
      "235            Holy See (Vatican City)                 NaN\n",
      "236                     European Union                 NaN\n",
      "237                   Saint Barthelemy                 NaN\n",
      "238                           Akrotiri                 NaN\n",
      "239                           Dhekelia                 NaN\n",
      "\n",
      "[240 rows x 2 columns]\n"
     ]
    },
    {
     "data": {
      "text/plain": [
       "array([[<matplotlib.axes._subplots.AxesSubplot object at 0x7f75d2f84e48>]],\n",
       "      dtype=object)"
      ]
     },
     "execution_count": 35,
     "metadata": {},
     "output_type": "execute_result"
    },
    {
     "data": {
      "image/png": "[encoded data removed]",
      "text/plain": [
       "<matplotlib.figure.Figure at 0x7f75d2ed8b70>"
      ]
     },
     "metadata": {},
     "output_type": "display_data"
    }
   ],
   "source": [
    "popuden_q = '''\n",
    "                SELECT name, CAST(population as Float)/CAST(area_land as Float) AS population_density \n",
    "                FROM facts \n",
    "                WHERE (population != (SELECT MAX(population) FROM facts)) AND \n",
    "                (population != (SELECT MIN(population) FROM facts)) \n",
    "                ORDER BY population_density DESC;\n",
    "                '''\n",
    "popuden_result = pd.read_sql_query(popuden_q, conn)\n",
    "print(popuden_result)\n",
    "popuden_result.hist()"
   ]
  },
  {
   "cell_type": "markdown",
   "metadata": {},
   "source": [
    "Results for the top 5 highest population density are consistent with those from Wikipedia."
   ]
  }
 ],
 "metadata": {
  "kernelspec": {
   "display_name": "Python 3",
   "language": "python",
   "name": "python3"
  },
  "language_info": {
   "codemirror_mode": {
    "name": "ipython",
    "version": 3
   },
   "file_extension": ".py",
   "mimetype": "text/x-python",
   "name": "python",
   "nbconvert_exporter": "python",
   "pygments_lexer": "ipython3",
   "version": "3.4.3"
  }
 },
 "nbformat": 4,
 "nbformat_minor": 2
}
